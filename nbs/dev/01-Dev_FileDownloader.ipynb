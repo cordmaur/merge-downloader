{
 "cells": [
  {
   "cell_type": "markdown",
   "metadata": {},
   "source": [
    "# Beaking down the code"
   ]
  },
  {
   "cell_type": "code",
   "execution_count": 2,
   "metadata": {},
   "outputs": [],
   "source": [
    "%load_ext autoreload\n",
    "%autoreload 2"
   ]
  },
  {
   "cell_type": "markdown",
   "metadata": {},
   "source": [
    "## The `FileDownloader` class"
   ]
  },
  {
   "cell_type": "code",
   "execution_count": 85,
   "metadata": {},
   "outputs": [],
   "source": [
    "import logging\n",
    "from mergedownloader.file_downloader import FileDownloader, ConnectionType, DownloadMode"
   ]
  },
  {
   "cell_type": "code",
   "execution_count": 86,
   "metadata": {},
   "outputs": [
    {
     "data": {
      "text/plain": [
       "<ConnectionType.FTP: 'ftp'>"
      ]
     },
     "execution_count": 86,
     "metadata": {},
     "output_type": "execute_result"
    }
   ],
   "source": [
    "ConnectionType['FTP']"
   ]
  },
  {
   "cell_type": "code",
   "execution_count": 99,
   "metadata": {},
   "outputs": [
    {
     "name": "stderr",
     "output_type": "stream",
     "text": [
      "Using wget through HTTP on: ftp.cptec.inpe.br\n"
     ]
    }
   ],
   "source": [
    "# create a file downloader instance\n",
    "fd = FileDownloader(server='ftp.cptec.inpe.br', connection_type=ConnectionType.HTTP, log_level=logging.DEBUG)"
   ]
  },
  {
   "cell_type": "code",
   "execution_count": 100,
   "metadata": {},
   "outputs": [
    {
     "data": {
      "text/plain": [
       "'http://ftp.cptec.inpe.br'"
      ]
     },
     "execution_count": 100,
     "metadata": {},
     "output_type": "execute_result"
    }
   ],
   "source": [
    "fd.server_url"
   ]
  },
  {
   "cell_type": "code",
   "execution_count": 101,
   "metadata": {},
   "outputs": [
    {
     "data": {
      "text/plain": [
       "True"
      ]
     },
     "execution_count": 101,
     "metadata": {},
     "output_type": "execute_result"
    }
   ],
   "source": [
    "fd.is_connected"
   ]
  },
  {
   "cell_type": "markdown",
   "metadata": {},
   "source": [
    "#### Testing the output messages for each MODE"
   ]
  },
  {
   "cell_type": "code",
   "execution_count": 90,
   "metadata": {},
   "outputs": [
    {
     "name": "stderr",
     "output_type": "stream",
     "text": [
      "#### UPDATE MODE (default) ####\n",
      "---- file does not exist ----\n",
      "Downloading READ_ME-MERGE.pdf. File does not exist\n",
      "---- file already exist (just downloaded)----\n",
      "Skipping READ_ME-MERGE.pdf. File already updated\n",
      "---- file already exist but it has been touched----\n",
      "Downloading READ_ME-MERGE.pdf. File has been modified\n"
     ]
    }
   ],
   "source": [
    "# First, let's download the file when it does not exist\n",
    "from pathlib import Path\n",
    "filename = 'READ_ME-MERGE.pdf'\n",
    "local_folder = Path('/tmp2')\n",
    "local_path = local_folder / filename\n",
    "remote_path = Path(f'/modelos/tempo/MERGE/GPM/{filename}')\n",
    "\n",
    "if local_path.exists():\n",
    "    local_path.unlink()\n",
    "\n",
    "fd.logger.info('#### UPDATE MODE (default) ####')\n",
    "\n",
    "fd.logger.info(\"---- file does not exist ----\")\n",
    "file = fd.download_file(remote_file=remote_path, local_folder=local_folder)\n",
    "\n",
    "fd.logger.info(\"---- file already exist (just downloaded)----\")\n",
    "file = fd.download_file(remote_file=remote_path, local_folder=local_folder)\n",
    "\n",
    "fd.logger.info(\"---- file already exist but it has been touched----\")\n",
    "!touch /tmp2/READ_ME-MERGE.pdf\n",
    "file = fd.download_file(remote_file=remote_path, local_folder=local_folder)\n"
   ]
  },
  {
   "cell_type": "code",
   "execution_count": 91,
   "metadata": {},
   "outputs": [
    {
     "name": "stderr",
     "output_type": "stream",
     "text": [
      "#### FORCE MODE  ####\n",
      "Using wget through HTTP on: ftp.cptec.inpe.br\n",
      "---- file does not exist ----\n",
      "Downloading READ_ME-MERGE.pdf. File does not exist\n",
      "---- file already exist (just downloaded)----\n",
      "Downloading READ_ME-MERGE.pdf. File already exists and mode is FORCE\n",
      "---- file already exist but it has been touched----\n",
      "Downloading READ_ME-MERGE.pdf. File already exists and mode is FORCE\n"
     ]
    }
   ],
   "source": [
    "fd.logger.info('#### FORCE MODE  ####')\n",
    "\n",
    "fd = FileDownloader(\n",
    "    server='ftp.cptec.inpe.br', \n",
    "    connection_type=ConnectionType.HTTP,\n",
    "    download_mode=DownloadMode.FORCE, \n",
    "    log_level=logging.DEBUG)\n",
    "\n",
    "if local_path.exists():\n",
    "    local_path.unlink()\n",
    "\n",
    "fd.logger.info(\"---- file does not exist ----\")\n",
    "file = fd.download_file(remote_file=remote_path, local_folder=local_folder)\n",
    "\n",
    "fd.logger.info(\"---- file already exist (just downloaded)----\")\n",
    "file = fd.download_file(remote_file=remote_path, local_folder=local_folder)\n",
    "\n",
    "fd.logger.info(\"---- file already exist but it has been touched----\")\n",
    "!touch /tmp2/READ_ME-MERGE.pdf\n",
    "file = fd.download_file(remote_file=remote_path, local_folder=local_folder)\n"
   ]
  },
  {
   "cell_type": "code",
   "execution_count": 102,
   "metadata": {},
   "outputs": [
    {
     "name": "stderr",
     "output_type": "stream",
     "text": [
      "#### NO_UPDATE MODE  ####\n",
      "Using wget through HTTP on: ftp.cptec.inpe.br\n",
      "---- file does not exist ----\n",
      "Downloading READ_ME-MERGE.pdf. File does not exist\n",
      "---- file already exist (just downloaded)----\n",
      "Skipping READ_ME-MERGE.pdf. File already exists\n",
      "---- file already exist but it has been touched----\n",
      "Skipping READ_ME-MERGE.pdf. File already exists\n"
     ]
    }
   ],
   "source": [
    "fd.logger.info('#### NO_UPDATE MODE  ####')\n",
    "\n",
    "fd = FileDownloader(\n",
    "    server='ftp.cptec.inpe.br', \n",
    "    connection_type=ConnectionType.HTTP,\n",
    "    download_mode=DownloadMode.NO_UPDATE, \n",
    "    log_level=logging.DEBUG)\n",
    "\n",
    "if local_path.exists():\n",
    "    local_path.unlink()\n",
    "\n",
    "fd.logger.info(\"---- file does not exist ----\")\n",
    "file = fd.download_file(remote_file=remote_path, local_folder=local_folder)\n",
    "\n",
    "fd.logger.info(\"---- file already exist (just downloaded)----\")\n",
    "file = fd.download_file(remote_file=remote_path, local_folder=local_folder)\n",
    "\n",
    "fd.logger.info(\"---- file already exist but it has been touched----\")\n",
    "!touch /tmp2/READ_ME-MERGE.pdf\n",
    "file = fd.download_file(remote_file=remote_path, local_folder=local_folder)\n"
   ]
  }
 ],
 "metadata": {
  "kernelspec": {
   "display_name": "Python 3",
   "language": "python",
   "name": "python3"
  },
  "language_info": {
   "codemirror_mode": {
    "name": "ipython",
    "version": 3
   },
   "file_extension": ".py",
   "mimetype": "text/x-python",
   "name": "python",
   "nbconvert_exporter": "python",
   "pygments_lexer": "ipython3",
   "version": "3.10.6"
  }
 },
 "nbformat": 4,
 "nbformat_minor": 2
}
