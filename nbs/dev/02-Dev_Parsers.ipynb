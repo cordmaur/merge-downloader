{
 "cells": [
  {
   "cell_type": "markdown",
   "metadata": {},
   "source": [
    "# Beaking down the code"
   ]
  },
  {
   "cell_type": "code",
   "execution_count": 2,
   "metadata": {},
   "outputs": [],
   "source": [
    "%load_ext autoreload\n",
    "%autoreload 2"
   ]
  },
  {
   "cell_type": "markdown",
   "metadata": {},
   "source": [
    "## The `AbstractParser`  class"
   ]
  },
  {
   "cell_type": "markdown",
   "metadata": {},
   "source": [
    "The `AbstractParser` class gives us a template to be used in the parsers. The functions that need to be defined are:\n",
    "* filename(self, date: datetime, **kwargs): return the filename, given a date\n",
    "* foldername(self, date: datetime, **kwargs): return the folder, given a date\n",
    "\n",
    "Additionally, the following information are also necessary as `constants` dictionary:\n",
    "* root - The root folder, where to find/store the files\n",
    "* var - The variable name (to be extracted from the dataset)\n",
    "* name - The name to be displayed in the system\n",
    "\n",
    "Here is a simple example of a parser implementation:\n"
   ]
  },
  {
   "cell_type": "code",
   "execution_count": 1,
   "metadata": {},
   "outputs": [],
   "source": [
    "from mergedownloader.parser import AbstractParser\n",
    "from datetime import datetime\n",
    "\n",
    "class Parser(AbstractParser):\n",
    "    constants = {\n",
    "        'root': \"/files/GPM\",\n",
    "        'var': 'precipitation',\n",
    "        'name': 'Daily precipitation'\n",
    "    }\n",
    "\n",
    "    def filename(self, date: datetime, **__):\n",
    "        return f'Prec_{date:%Y%m%d}.nc'\n",
    "    \n",
    "    def foldername(self, date: datetime, **__):\n",
    "        return 'DailyPrec'\n"
   ]
  },
  {
   "cell_type": "code",
   "execution_count": 3,
   "metadata": {},
   "outputs": [
    {
     "name": "stdout",
     "output_type": "stream",
     "text": [
      "Prec_20220101.nc\n",
      "DailyPrec\n",
      "/files/GPM/DailyPrec\n",
      "/files/GPM/DailyPrec/Prec_20220101.nc\n",
      "/tmp/DailyPrec\n"
     ]
    }
   ],
   "source": [
    "# now, let's see our parser in action\n",
    "DATE = datetime(2022, 1, 1)\n",
    "\n",
    "parser = Parser()\n",
    "\n",
    "print(parser.filename(DATE))\n",
    "print(parser.foldername(DATE))\n",
    "print(parser.remote_folder(DATE))\n",
    "print(parser.remote_target(DATE))\n",
    "print(parser.local_folder(DATE, '/tmp'))\n"
   ]
  },
  {
   "cell_type": "markdown",
   "metadata": {},
   "source": [
    "## Inpe Parsers Classes"
   ]
  },
  {
   "cell_type": "markdown",
   "metadata": {},
   "source": [
    "The GPM (Global Precipitation Measurement) files for the South America are processed by the INPE (Brazilian Spatial Institute). The values are adjusted by combining TRMM and surface observations from ground stations, through the MERGE model (Rozante et al., 2010).\n",
    "\n",
    "The `inpeparser` module has the parsers to work with the INPE structure. The `*` will import the parsers and corresponding DataTypes.\n",
    "\n",
    "Reference\n",
    "* Rozante et al., 2010 - https://ftp.cptec.inpe.br/modelos/tempo/MERGE/GPM/Rozante_et.al.2010.pdf"
   ]
  },
  {
   "cell_type": "code",
   "execution_count": 4,
   "metadata": {},
   "outputs": [],
   "source": [
    "from mergedownloader.inpeparser import *"
   ]
  },
  {
   "cell_type": "code",
   "execution_count": 5,
   "metadata": {},
   "outputs": [
    {
     "name": "stdout",
     "output_type": "stream",
     "text": [
      "InpeTypes.DAILY_RAIN 1\n",
      "InpeTypes.MONTHLY_ACCUM_YEARLY 2\n",
      "InpeTypes.DAILY_AVERAGE 3\n",
      "InpeTypes.MONTHLY_ACCUM 4\n",
      "InpeTypes.MONTHLY_ACCUM_MANUAL 5\n",
      "InpeTypes.YEARLY_ACCUM 6\n",
      "InpeTypes.HOURLY_WRF 7\n"
     ]
    }
   ],
   "source": [
    "for dt in InpeTypes:\n",
    "    print(dt, dt.value)"
   ]
  },
  {
   "cell_type": "code",
   "execution_count": 6,
   "metadata": {},
   "outputs": [
    {
     "name": "stdout",
     "output_type": "stream",
     "text": [
      "MERGE_CPTEC_acum_2022.nc\n",
      "YEAR_ACCUMULATED\n",
      "/modelos/tempo/MERGE/GPM/CLIMATOLOGY/YEAR_ACCUMULATED\n",
      "/modelos/tempo/MERGE/GPM/CLIMATOLOGY/YEAR_ACCUMULATED/MERGE_CPTEC_acum_2022.nc\n",
      "/tmp/YEAR_ACCUMULATED\n"
     ]
    }
   ],
   "source": [
    "DATE = datetime(2022, 1, 1)\n",
    "\n",
    "parser = YearAccumulatedParser()\n",
    "\n",
    "print(parser.filename(DATE))\n",
    "print(parser.foldername(DATE))\n",
    "print(parser.remote_folder(DATE))\n",
    "print(parser.remote_target(DATE))\n",
    "print(parser.local_folder(DATE, '/tmp'))\n"
   ]
  },
  {
   "cell_type": "code",
   "execution_count": 7,
   "metadata": {},
   "outputs": [
    {
     "name": "stdout",
     "output_type": "stream",
     "text": [
      "MERGE_CPTEC_acum_jan.nc\n",
      "MONTHLY_ACCUMULATED\n",
      "/modelos/tempo/MERGE/GPM/CLIMATOLOGY/MONTHLY_ACCUMULATED\n",
      "/modelos/tempo/MERGE/GPM/CLIMATOLOGY/MONTHLY_ACCUMULATED/MERGE_CPTEC_acum_jan.nc\n",
      "/tmp/MONTHLY_ACCUMULATED\n"
     ]
    }
   ],
   "source": [
    "parser = MonthlyAccumParser()\n",
    "\n",
    "print(parser.filename(DATE))\n",
    "print(parser.foldername(DATE))\n",
    "print(parser.remote_folder(DATE))\n",
    "print(parser.remote_target(DATE))\n",
    "print(parser.local_folder(DATE, '/tmp'))\n"
   ]
  },
  {
   "cell_type": "code",
   "execution_count": 8,
   "metadata": {},
   "outputs": [
    {
     "name": "stdout",
     "output_type": "stream",
     "text": [
      "MERGE_CPTEC_12Z01jan.nc\n",
      "DAILY_AVERAGE\n",
      "/modelos/tempo/MERGE/GPM/CLIMATOLOGY/DAILY_AVERAGE\n",
      "/modelos/tempo/MERGE/GPM/CLIMATOLOGY/DAILY_AVERAGE/MERGE_CPTEC_12Z01jan.nc\n",
      "/tmp/DAILY_AVERAGE\n"
     ]
    }
   ],
   "source": [
    "parser = DailyAverageParser()\n",
    "\n",
    "print(parser.filename(DATE))\n",
    "print(parser.foldername(DATE))\n",
    "print(parser.remote_folder(DATE))\n",
    "print(parser.remote_target(DATE))\n",
    "print(parser.local_folder(DATE, '/tmp'))\n"
   ]
  },
  {
   "cell_type": "code",
   "execution_count": 9,
   "metadata": {},
   "outputs": [
    {
     "name": "stdout",
     "output_type": "stream",
     "text": [
      "MERGE_CPTEC_20220101.grib2\n",
      "DAILY/2022/01\n",
      "/modelos/tempo/MERGE/GPM/DAILY/2022/01\n",
      "/modelos/tempo/MERGE/GPM/DAILY/2022/01/MERGE_CPTEC_20220101.grib2\n",
      "/tmp/DAILY/2022/01\n"
     ]
    }
   ],
   "source": [
    "parser = DailyParser()\n",
    "\n",
    "print(parser.filename(DATE))\n",
    "print(parser.foldername(DATE))\n",
    "print(parser.remote_folder(DATE))\n",
    "print(parser.remote_target(DATE))\n",
    "print(parser.local_folder(DATE, '/tmp'))\n"
   ]
  },
  {
   "cell_type": "code",
   "execution_count": 10,
   "metadata": {},
   "outputs": [
    {
     "name": "stdout",
     "output_type": "stream",
     "text": [
      "MERGE_CPTEC_acum_jan_2022.nc\n",
      "MONTHLY_ACCUMULATED_YEARLY\n",
      "/modelos/tempo/MERGE/GPM/CLIMATOLOGY/MONTHLY_ACCUMULATED_YEARLY\n",
      "/modelos/tempo/MERGE/GPM/CLIMATOLOGY/MONTHLY_ACCUMULATED_YEARLY/MERGE_CPTEC_acum_jan_2022.nc\n",
      "/tmp/MONTHLY_ACCUMULATED_YEARLY\n"
     ]
    }
   ],
   "source": [
    "parser = MonthlyAccumYearlyParser()\n",
    "\n",
    "print(parser.filename(DATE))\n",
    "print(parser.foldername(DATE))\n",
    "print(parser.remote_folder(DATE))\n",
    "print(parser.remote_target(DATE))\n",
    "print(parser.local_folder(DATE, '/tmp'))\n"
   ]
  },
  {
   "cell_type": "markdown",
   "metadata": {},
   "source": [
    "To make things easier, we also define a list of parser instances that can be used with the `Downloader`."
   ]
  },
  {
   "cell_type": "code",
   "execution_count": 84,
   "metadata": {},
   "outputs": [],
   "source": [
    "from mergedownloader.inpeparser import *"
   ]
  },
  {
   "cell_type": "code",
   "execution_count": 82,
   "metadata": {},
   "outputs": [],
   "source": [
    "del InpeParsers"
   ]
  },
  {
   "cell_type": "code",
   "execution_count": 85,
   "metadata": {},
   "outputs": [
    {
     "data": {
      "text/plain": [
       "{<InpeTypes.DAILY_RAIN: 1>: Instance of DailyParser,\n",
       " <InpeTypes.MONTHLY_ACCUM_YEARLY: 2>: Instance of MonthlyAccumYearlyParser,\n",
       " <InpeTypes.DAILY_AVERAGE: 3>: Instance of DailyAverageParser,\n",
       " <InpeTypes.MONTHLY_ACCUM: 4>: Instance of MonthlyAccumParser,\n",
       " <InpeTypes.MONTHLY_ACCUM_MANUAL: None>: None,\n",
       " <InpeTypes.YEARLY_ACCUM: 5>: Instance of YearAccumulatedParser}"
      ]
     },
     "execution_count": 85,
     "metadata": {},
     "output_type": "execute_result"
    }
   ],
   "source": [
    "InpeParsers"
   ]
  },
  {
   "cell_type": "code",
   "execution_count": 52,
   "metadata": {},
   "outputs": [
    {
     "data": {
      "text/plain": [
       "Instance of DailyAverageParser"
      ]
     },
     "execution_count": 52,
     "metadata": {},
     "output_type": "execute_result"
    }
   ],
   "source": [
    "InpeParsers[InpeTypes.DAILY_AVERAGE]"
   ]
  }
 ],
 "metadata": {
  "kernelspec": {
   "display_name": "Python 3",
   "language": "python",
   "name": "python3"
  },
  "language_info": {
   "codemirror_mode": {
    "name": "ipython",
    "version": 3
   },
   "file_extension": ".py",
   "mimetype": "text/x-python",
   "name": "python",
   "nbconvert_exporter": "python",
   "pygments_lexer": "ipython3",
   "version": "3.10.6"
  }
 },
 "nbformat": 4,
 "nbformat_minor": 2
}
